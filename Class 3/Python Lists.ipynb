{
 "cells": [
  {
   "cell_type": "markdown",
   "metadata": {},
   "source": [
    "# Python Lists\n",
    "- A list is a collection of items in a particular order.\n",
    "- You can put anything you want into a list, and the items in your list don’t have to be related in any particular way.\n",
    "- In Python, square brackets ([ ]) indicate a list, and individual elements in the list are separated by commas.\n",
    "\n",
    "###### Example:"
   ]
  },
  {
   "cell_type": "code",
   "execution_count": 1,
   "metadata": {},
   "outputs": [
    {
     "name": "stdout",
     "output_type": "stream",
     "text": [
      "['Audi', 'BMW', 'Mercedes', 'Nissan', 'Jeep', 'Lexus', 'Volvo', 'Landrover']\n"
     ]
    }
   ],
   "source": [
    "cars = ['Audi', 'BMW', 'Mercedes', 'Nissan', 'Jeep', 'Lexus', 'Volvo', 'Landrover']\n",
    "print(cars)"
   ]
  },
  {
   "cell_type": "markdown",
   "metadata": {},
   "source": [
    "### Accessing ELements of a List"
   ]
  },
  {
   "cell_type": "markdown",
   "metadata": {},
   "source": [
    "- Lists are ordered collections, so you can access any element in a list by telling Python the position, or index, of the item desired. \n",
    "- To access an element in a list, write the name of the list followed by the index of the item enclosed in square brackets.\n",
    "- In python the index value starts from zero (0) so the first element in the list has the index of 0."
   ]
  },
  {
   "cell_type": "code",
   "execution_count": 35,
   "metadata": {},
   "outputs": [
    {
     "data": {
      "text/plain": [
       "'Jeep'"
      ]
     },
     "execution_count": 35,
     "metadata": {},
     "output_type": "execute_result"
    }
   ],
   "source": [
    "cars[4]"
   ]
  },
  {
   "cell_type": "markdown",
   "metadata": {},
   "source": [
    "You can also use the string methods on any element in\n",
    "a list."
   ]
  },
  {
   "cell_type": "code",
   "execution_count": 36,
   "metadata": {},
   "outputs": [
    {
     "data": {
      "text/plain": [
       "'MERCEDES'"
      ]
     },
     "execution_count": 36,
     "metadata": {},
     "output_type": "execute_result"
    }
   ],
   "source": [
    "cars[2].upper()"
   ]
  },
  {
   "cell_type": "markdown",
   "metadata": {},
   "source": [
    "You can also access elements from the end of the list using a negative index."
   ]
  },
  {
   "cell_type": "code",
   "execution_count": 37,
   "metadata": {},
   "outputs": [
    {
     "data": {
      "text/plain": [
       "'Volvo'"
      ]
     },
     "execution_count": 37,
     "metadata": {},
     "output_type": "execute_result"
    }
   ],
   "source": [
    "# Last Element\n",
    "cars[-2]"
   ]
  },
  {
   "cell_type": "markdown",
   "metadata": {},
   "source": [
    "### Slicing a list\n",
    "You can access a section of a list using the slice operator."
   ]
  },
  {
   "cell_type": "code",
   "execution_count": 31,
   "metadata": {},
   "outputs": [
    {
     "data": {
      "text/plain": [
       "['Mercedes', 'Nissan', 'Jeep', 'Lexus']"
      ]
     },
     "execution_count": 31,
     "metadata": {},
     "output_type": "execute_result"
    }
   ],
   "source": [
    "cars[2:6]"
   ]
  },
  {
   "cell_type": "code",
   "execution_count": 32,
   "metadata": {},
   "outputs": [
    {
     "data": {
      "text/plain": [
       "['Audi', 'BMW', 'Mercedes', 'Nissan', 'Jeep']"
      ]
     },
     "execution_count": 32,
     "metadata": {},
     "output_type": "execute_result"
    }
   ],
   "source": [
    "cars[:5]"
   ]
  },
  {
   "cell_type": "code",
   "execution_count": 33,
   "metadata": {},
   "outputs": [
    {
     "data": {
      "text/plain": [
       "['Jeep', 'Lexus', 'Volvo', 'Landrover']"
      ]
     },
     "execution_count": 33,
     "metadata": {},
     "output_type": "execute_result"
    }
   ],
   "source": [
    "cars[4:]"
   ]
  },
  {
   "cell_type": "code",
   "execution_count": 34,
   "metadata": {},
   "outputs": [
    {
     "name": "stdout",
     "output_type": "stream",
     "text": [
      "['Audi', 'BMW', 'Mercedes', 'Nissan', 'Jeep', 'Lexus', 'Volvo', 'Landrover']\n"
     ]
    }
   ],
   "source": [
    "print(cars)"
   ]
  },
  {
   "cell_type": "code",
   "execution_count": 35,
   "metadata": {},
   "outputs": [
    {
     "data": {
      "text/plain": [
       "['Nissan', 'Jeep', 'Lexus', 'Volvo', 'Landrover']"
      ]
     },
     "execution_count": 35,
     "metadata": {},
     "output_type": "execute_result"
    }
   ],
   "source": [
    "# Qn\n",
    "cars[-5:]"
   ]
  },
  {
   "cell_type": "code",
   "execution_count": 36,
   "metadata": {},
   "outputs": [
    {
     "data": {
      "text/plain": [
       "['Audi', 'BMW', 'Mercedes', 'Nissan']"
      ]
     },
     "execution_count": 36,
     "metadata": {},
     "output_type": "execute_result"
    }
   ],
   "source": [
    "# Qn\n",
    "cars[:-4]"
   ]
  },
  {
   "cell_type": "markdown",
   "metadata": {},
   "source": [
    "### List Methods"
   ]
  },
  {
   "cell_type": "markdown",
   "metadata": {},
   "source": [
    "##### append()\n",
    "- Append method is used to add an item at the end of a list."
   ]
  },
  {
   "cell_type": "code",
   "execution_count": 37,
   "metadata": {},
   "outputs": [
    {
     "data": {
      "text/plain": [
       "['Audi', 'BMW', 'Mercedes', 'Nissan', 'Jeep', 'Lexus', 'Volvo', 'Landrover']"
      ]
     },
     "execution_count": 37,
     "metadata": {},
     "output_type": "execute_result"
    }
   ],
   "source": [
    "cars"
   ]
  },
  {
   "cell_type": "code",
   "execution_count": 38,
   "metadata": {},
   "outputs": [
    {
     "name": "stdout",
     "output_type": "stream",
     "text": [
      "['Audi', 'BMW', 'Mercedes', 'Nissan', 'Jeep', 'Lexus', 'Volvo', 'Landrover', 'Volkwagen']\n"
     ]
    }
   ],
   "source": [
    "cars.append('Volkwagen')\n",
    "print(cars)"
   ]
  },
  {
   "cell_type": "markdown",
   "metadata": {},
   "source": [
    "##### insert()\n",
    "- Used to insert an item at a certain position in a list."
   ]
  },
  {
   "cell_type": "code",
   "execution_count": 39,
   "metadata": {},
   "outputs": [
    {
     "name": "stdout",
     "output_type": "stream",
     "text": [
      "['Audi', 'BMW', 'Peugeot', 'Mercedes', 'Nissan', 'Jeep', 'Lexus', 'Volvo', 'Landrover', 'Volkwagen']\n"
     ]
    }
   ],
   "source": [
    "cars.insert(2,'Peugeot')\n",
    "print(cars)"
   ]
  },
  {
   "cell_type": "markdown",
   "metadata": {},
   "source": [
    "##### index()\n",
    "- Used to get the index of an element from a list."
   ]
  },
  {
   "cell_type": "code",
   "execution_count": 42,
   "metadata": {},
   "outputs": [
    {
     "name": "stdout",
     "output_type": "stream",
     "text": [
      "['Audi', 'BMW', 'Peugeot', 'Mercedes', 'Nissan', 'Jeep', 'Lexus', 'Volvo', 'Landrover', 'Volkwagen', 'Mercedes']\n"
     ]
    }
   ],
   "source": [
    "cars.append('Mercedes')\n",
    "print(cars)"
   ]
  },
  {
   "cell_type": "code",
   "execution_count": 43,
   "metadata": {},
   "outputs": [
    {
     "name": "stdout",
     "output_type": "stream",
     "text": [
      "3\n"
     ]
    }
   ],
   "source": [
    "index_pos = cars.index('Mercedes')\n",
    "print(index_pos)"
   ]
  },
  {
   "cell_type": "code",
   "execution_count": 44,
   "metadata": {},
   "outputs": [
    {
     "name": "stdout",
     "output_type": "stream",
     "text": [
      "['Audi', 'BMW', 'Peugeot', 'Mercedes', 'Nissan', 'Jeep', 'Lexus', 'Volvo', 'Landrover', 'Volkwagen', 'Mercedes', 'Mazda']\n"
     ]
    }
   ],
   "source": [
    "cars.append('Mazda')\n",
    "print(cars)"
   ]
  },
  {
   "cell_type": "markdown",
   "metadata": {},
   "source": [
    "##### pop()\n",
    "Returns and removes an item from the list."
   ]
  },
  {
   "cell_type": "code",
   "execution_count": 47,
   "metadata": {},
   "outputs": [
    {
     "name": "stdout",
     "output_type": "stream",
     "text": [
      "Nissan is not European made.\n"
     ]
    }
   ],
   "source": [
    "rm_car = cars.pop(4)\n",
    "print(f'{rm_car} is not European made.')"
   ]
  },
  {
   "cell_type": "code",
   "execution_count": 48,
   "metadata": {},
   "outputs": [
    {
     "name": "stdout",
     "output_type": "stream",
     "text": [
      "['Audi', 'BMW', 'Peugeot', 'Mercedes', 'Jeep', 'Lexus', 'Volvo', 'Landrover', 'Volkwagen', 'Mercedes']\n"
     ]
    }
   ],
   "source": [
    "print(cars)"
   ]
  },
  {
   "cell_type": "code",
   "execution_count": 86,
   "metadata": {},
   "outputs": [
    {
     "data": {
      "text/plain": [
       "'Mercedes'"
      ]
     },
     "execution_count": 86,
     "metadata": {},
     "output_type": "execute_result"
    }
   ],
   "source": [
    "cars.pop()"
   ]
  },
  {
   "cell_type": "markdown",
   "metadata": {},
   "source": [
    "##### remove()\n",
    "- Used to remove an item from a list without return."
   ]
  },
  {
   "cell_type": "code",
   "execution_count": 49,
   "metadata": {},
   "outputs": [
    {
     "name": "stdout",
     "output_type": "stream",
     "text": [
      "['Audi', 'BMW', 'Peugeot', 'Mercedes', 'Jeep', 'Volvo', 'Landrover', 'Volkwagen', 'Mercedes']\n"
     ]
    }
   ],
   "source": [
    "cars.remove(\"Lexus\")\n",
    "print(cars)"
   ]
  },
  {
   "cell_type": "markdown",
   "metadata": {},
   "source": [
    "##### del\n",
    "- Removes an item from a list using its index."
   ]
  },
  {
   "cell_type": "code",
   "execution_count": 50,
   "metadata": {},
   "outputs": [
    {
     "name": "stdout",
     "output_type": "stream",
     "text": [
      "['Audi', 'BMW', 'Peugeot', 'Mercedes', 'Jeep', 'Volvo', 'Landrover', 'Volkwagen']\n"
     ]
    }
   ],
   "source": [
    "del cars[-1]\n",
    "print(cars)"
   ]
  },
  {
   "cell_type": "markdown",
   "metadata": {},
   "source": [
    "##### extend()\n",
    "- Adds all elements of a list to another list"
   ]
  },
  {
   "cell_type": "code",
   "execution_count": 51,
   "metadata": {},
   "outputs": [
    {
     "name": "stdout",
     "output_type": "stream",
     "text": [
      "['Audi', 'BMW', 'Peugeot', 'Mercedes', 'Jeep', 'Volvo', 'Landrover', 'Volkwagen']\n",
      "['Toyota', 'Mazda', 'Honda', 'Subaru', 'Nissan']\n",
      "['Audi', 'BMW', 'Peugeot', 'Mercedes', 'Jeep', 'Volvo', 'Landrover', 'Volkwagen', 'Toyota', 'Mazda', 'Honda', 'Subaru', 'Nissan']\n"
     ]
    }
   ],
   "source": [
    "print(cars)\n",
    "japan_cars = ['Toyota', \"Mazda\", \"Honda\", \"Subaru\", \"Nissan\"]\n",
    "print(japan_cars)\n",
    "cars.extend(japan_cars)\n",
    "print(cars)"
   ]
  },
  {
   "cell_type": "code",
   "execution_count": 52,
   "metadata": {},
   "outputs": [
    {
     "name": "stdout",
     "output_type": "stream",
     "text": [
      "['Audi', 'BMW', 'Peugeot', 'Mercedes', 'Jeep', 'Volvo', 'Landrover', 'Volkwagen', 'Toyota', 'Mazda', 'Honda', 'Subaru', 'Nissan', 'Toyota', 'Mazda', 'Honda', 'Subaru', 'Nissan']\n"
     ]
    }
   ],
   "source": [
    "all_cars = cars + japan_cars\n",
    "print(all_cars)"
   ]
  },
  {
   "cell_type": "code",
   "execution_count": 53,
   "metadata": {},
   "outputs": [
    {
     "name": "stdout",
     "output_type": "stream",
     "text": [
      "['Nissan', 'Subaru', 'Honda', 'Mazda', 'Toyota', 'Volkwagen', 'Landrover', 'Volvo', 'Jeep', 'Mercedes', 'Peugeot', 'BMW', 'Audi']\n"
     ]
    }
   ],
   "source": [
    "cars.reverse()\n",
    "print(cars)"
   ]
  },
  {
   "cell_type": "code",
   "execution_count": 54,
   "metadata": {},
   "outputs": [
    {
     "name": "stdout",
     "output_type": "stream",
     "text": [
      "['Volvo', 'Volkwagen', 'Toyota', 'Subaru', 'Peugeot', 'Nissan', 'Mercedes', 'Mazda', 'Landrover', 'Jeep', 'Honda', 'BMW', 'Audi']\n"
     ]
    }
   ],
   "source": [
    "cars.sort(reverse=True)\n",
    "print(cars)"
   ]
  },
  {
   "cell_type": "code",
   "execution_count": 94,
   "metadata": {},
   "outputs": [
    {
     "data": {
      "text/plain": [
       "1"
      ]
     },
     "execution_count": 94,
     "metadata": {},
     "output_type": "execute_result"
    }
   ],
   "source": [
    "cars.count('Nissan')"
   ]
  },
  {
   "cell_type": "markdown",
   "metadata": {},
   "source": [
    "### Other Lists methods:\n",
    "- **reverse()** -\treverse the order of items in the list.\n",
    "- **sort()** -\tsort items in a list in ascending order.\n",
    "- **copy()** -\treturns a shallow copy of the list.\n",
    "- **clear()**\tremoves all items from the list\n",
    "- **count()** -\treturns the count of the number of items passed as an argument."
   ]
  },
  {
   "cell_type": "markdown",
   "metadata": {},
   "source": [
    "### Nested Lists\n",
    "* Nested lists are essentially lists that contain other lists."
   ]
  },
  {
   "cell_type": "code",
   "execution_count": 53,
   "metadata": {},
   "outputs": [],
   "source": [
    "animals = ['Dogs', 'Cats', 'Rabbits', ['Maltese', 'Retriever', 'Shepherd', 'Poodle'], 'Pigs']"
   ]
  },
  {
   "cell_type": "code",
   "execution_count": 55,
   "metadata": {},
   "outputs": [
    {
     "data": {
      "text/plain": [
       "'Retriever'"
      ]
     },
     "execution_count": 55,
     "metadata": {},
     "output_type": "execute_result"
    }
   ],
   "source": [
    "animals[3][1]"
   ]
  },
  {
   "cell_type": "code",
   "execution_count": null,
   "metadata": {},
   "outputs": [],
   "source": [
    "animals_2 = ['Dogs', 'Cats', 'Rabbits', ['Maltese', 'Retriever', 'Shepherd', 'Poodle', [\"Germany\", \"Japan\"]], 'Pigs']"
   ]
  },
  {
   "cell_type": "markdown",
   "metadata": {},
   "source": [
    "#### Exercise : Extend nested list by adding the sublist"
   ]
  },
  {
   "cell_type": "code",
   "execution_count": 57,
   "metadata": {},
   "outputs": [
    {
     "name": "stdout",
     "output_type": "stream",
     "text": [
      "['Jaguar', 'BMW', 'Peugeot', 'Mercedes', 'Jeep', 'Volvo', 'Landrover', 'Volkwagen', 'Toyota', 'Mazda', 'Honda', 'Subaru', 'Nissan']\n"
     ]
    }
   ],
   "source": []
  },
  {
   "cell_type": "markdown",
   "metadata": {},
   "source": [
    "# Tuples\n",
    "- In python, tuples are almost similar to lists except for how they are declared.\n",
    "- Tuples are declared using parentheses ().\n",
    "- Tuples are also **immutable**, this means that elements of a tuple cannot be changed once they have been assigned. \n",
    "- But, if the element is itself a mutable data type like a list, its nested items can be changed.."
   ]
  },
  {
   "cell_type": "code",
   "execution_count": 60,
   "metadata": {},
   "outputs": [
    {
     "data": {
      "text/plain": [
       "('kawasaki', 'honda')"
      ]
     },
     "execution_count": 60,
     "metadata": {},
     "output_type": "execute_result"
    }
   ],
   "source": [
    "bikes = ('kawasaki', 'honda', 'yamaha', 'suzuki')\n",
    "bikes[0:2]"
   ]
  },
  {
   "cell_type": "markdown",
   "metadata": {},
   "source": [
    "## Create a ROCK-PAPER-SCISSORS\n",
    "* https://en.wikipedia.org/wiki/Rock_paper_scissors\n",
    "\n",
    "### Solution"
   ]
  },
  {
   "cell_type": "code",
   "execution_count": null,
   "metadata": {},
   "outputs": [],
   "source": [
    "import random\n",
    "\n",
    "user_action = input(\"Enter your action choice (rock, paper, scissor): \").lower()\n",
    "possible_choices = [\"rock\",\"paper\",\"scissor\"]\n",
    "computer_action = random.choice(possible_choices)\n",
    "\n",
    "print(f\"\\nYou chose {user_action}, computer chose {computer_action}.\\n\")\n",
    "\n",
    "if user_action == computer_action:\n",
    "    print(f\"Both players selected {user_action}. It's a tie\")\n",
    "elif user_action == \"rock\":\n",
    "    if computer_action == \"scissor\":\n",
    "        print(\"Rock smashes scissor, I Win\")\n",
    "    else:\n",
    "        print(\"Paper covers rock, Computer Wins.\")\n",
    "elif user_action == \"paper\":\n",
    "    if computer_action == \"rock\":\n",
    "        print(\"Paper covers rock, I Win\")\n",
    "    else:\n",
    "        print(\"Scissor cuts paper, Computer Wins.\")\n",
    "elif user_action == \"scissor\":\n",
    "    if computer_action == \"paper\":\n",
    "        print(\"Scissor cuts paper, I Win\")\n",
    "    else:\n",
    "        print(\"Rock smashes scissor, Computer Wins.\")"
   ]
  }
 ],
 "metadata": {
  "kernelspec": {
   "display_name": "Python 3",
   "language": "python",
   "name": "python3"
  },
  "language_info": {
   "codemirror_mode": {
    "name": "ipython",
    "version": 3
   },
   "file_extension": ".py",
   "mimetype": "text/x-python",
   "name": "python",
   "nbconvert_exporter": "python",
   "pygments_lexer": "ipython3",
   "version": "3.9.13"
  }
 },
 "nbformat": 4,
 "nbformat_minor": 4
}
