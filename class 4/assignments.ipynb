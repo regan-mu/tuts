{
 "cells": [
  {
   "cell_type": "markdown",
   "metadata": {},
   "source": [
    "## Problem 1 (30 points):\n",
    "\n",
    "Write a program that uses while loops to perform the following steps:\n",
    "* Prompt the user to input two integers: firstNum and secondNum. (Ensure that firstNum must be less than secondNum.)\n",
    "* Output all the odd numbers between firstNum and secondNum inclusive.\n",
    "* Output the sum of all the even numbers between firstNum and secondNum inclusive.\n",
    "* Output the sum of the squares of all the odd numbers between firstNum and secondNum\n",
    "inclusive."
   ]
  },
  {
   "cell_type": "code",
   "execution_count": 9,
   "metadata": {},
   "outputs": [
    {
     "name": "stdout",
     "output_type": "stream",
     "text": [
      "[13, 15, 17, 19, 21, 23, 25, 27, 29, 31]\n",
      "210\n",
      "5170\n"
     ]
    }
   ],
   "source": [
    "gameOn = True\n",
    "while gameOn:\n",
    "    # Get first number.\n",
    "    firstNum = int(input(\"Enter first number: \"))\n",
    "    # Get second number.\n",
    "    secondNum = int(input(\"Enter second number (Must be greater than first number): \"))\n",
    "    # Ensure second number is greater tha first number.\n",
    "    if secondNum < firstNum:\n",
    "        # If the second number is smaller than the first, notify the user and restart the loop again.\n",
    "        print(\"Second number must be greater than first number. \")\n",
    "        continue\n",
    "\n",
    "    # Generate a list of numbers between firstNum and secondNum inclusive.\n",
    "    numList = list(range(firstNum, secondNum+1))\n",
    "\n",
    "    # Create an empty list called allOdd that is going to contain all the odd numbers in our list.\n",
    "    allOdd = []\n",
    "    # Create an empty list that is going to contain the squares of all odd numbers.\n",
    "    squaresOfOdd = []\n",
    "    # Create an empty list called allEven that is going to contain all the even numbers in our list.\n",
    "    allEven = []\n",
    "\n",
    "    # Loop through the list of numbers.\n",
    "    for n in numList:\n",
    "        # if a number is odd append it tho allOdd list, also append it's square to the squaresOfOdd list.\n",
    "        if n % 2 > 0:\n",
    "            allOdd.append(n)\n",
    "            squaresOfOdd.append(n**2)\n",
    "        # If the number is even, append it to the allEven list.\n",
    "        else:\n",
    "            allEven.append(n)\n",
    "\n",
    "    # print the list of ODD numbers.\n",
    "    print(allOdd)\n",
    "    # print the SUM of all EVEN numbers.\n",
    "    print(sum(allEven))\n",
    "    # print the sum of the squares of all ODD numbers.\n",
    "    print(sum(squaresOfOdd))\n",
    "    # Change the loop condition to False, to end the loop.\n",
    "    gameOn = False\n",
    "\n",
    "\n"
   ]
  },
  {
   "cell_type": "code",
   "execution_count": null,
   "metadata": {},
   "outputs": [],
   "source": []
  },
  {
   "cell_type": "markdown",
   "metadata": {},
   "source": [
    "## Problem 2\n",
    "Write a program in Python that uses lists to accomplish the following:\n",
    "\n",
    "* Take input from the user a List of integers called List1 (each number is separated by a space)\n",
    "* Take input from the user a second List of integers called List2 (each number is separated by a\n",
    "space)\n",
    "* Remove duplicate entries (multiple instances of) in both Lists separately\n",
    "* Using for loops compare both Lists to determine if they have any common elements. \n",
    "* Print the common elements as a Third List List3"
   ]
  },
  {
   "cell_type": "code",
   "execution_count": 23,
   "metadata": {},
   "outputs": [],
   "source": [
    "# Get list 1.\n",
    "list1 = input(\"Enter a set of integers(They must be separated by a comma/,): \").replace(\" \", \"\").split(\",\")\n",
    "# Get list 2.\n",
    "list2 = input(\"Enter a set of integers(They must be separated by a comma/,): \").replace(\" \", \"\").split(\",\")\n",
    "# Remove duplicates from list1.\n",
    "list1 = list(dict.fromkeys(list1))\n",
    "# Remove duplicates from list2.\n",
    "list2 = list(dict.fromkeys(list2))\n",
    "\n",
    "# Intialize an empty list 3.\n",
    "list3 = []\n",
    "\n",
    "# Check for common values in both list1 and list2 and append them in list3.\n",
    "for i in list1:\n",
    "    for n in list2:\n",
    "        if i == n:\n",
    "            list3.append(int(i))\n",
    "\n",
    "# print all the lists.\n",
    "print(list1)\n",
    "print(list2)\n",
    "print(list3)"
   ]
  },
  {
   "cell_type": "code",
   "execution_count": null,
   "metadata": {},
   "outputs": [],
   "source": []
  },
  {
   "cell_type": "markdown",
   "metadata": {},
   "source": [
    "## Problem 3\n",
    "Write a program in Python that uses lists to accomplish the following:\n",
    "* Take input from the user a List of words called List1 (each word is separated by a space)\n",
    "* Create a second List2 which contains the same words in List1 but only reversed\n",
    "* Then compare List1 and List2 (original words with their reversed versions) to see if they are\n",
    "palindromes. Print the palindrome words as a third List List3. \n",
    "* A palindrome is a word that when read in either direction reads the same, such as civic, radar, level."
   ]
  },
  {
   "cell_type": "code",
   "execution_count": 14,
   "metadata": {},
   "outputs": [
    {
     "name": "stdout",
     "output_type": "stream",
     "text": [
      "['level']\n"
     ]
    }
   ],
   "source": [
    "# Get the words input, separated by space and split the input string to get list1\n",
    "list1 = input(\"Enter word for list 1 (Separeted by space): \").split(\" \")\n",
    "# reverse every word in list1\n",
    "list2 = [word[::-1] for word in list1]\n",
    "# Initialize an empty list3 that is going to contain the palindromes\n",
    "list3 = []\n",
    "\n",
    "# Loop through both lists and check for palindrome. if a word is a palindrome, append it to list3\n",
    "for word in list1:\n",
    "    for characters in list2:\n",
    "        if word == characters:\n",
    "            list3.append(word)\n",
    "\n",
    "# print list3\n",
    "print(list3)"
   ]
  },
  {
   "cell_type": "code",
   "execution_count": null,
   "metadata": {},
   "outputs": [],
   "source": []
  },
  {
   "cell_type": "code",
   "execution_count": null,
   "metadata": {},
   "outputs": [],
   "source": []
  },
  {
   "cell_type": "code",
   "execution_count": null,
   "metadata": {},
   "outputs": [],
   "source": []
  }
 ],
 "metadata": {
  "kernelspec": {
   "display_name": "base",
   "language": "python",
   "name": "python3"
  },
  "language_info": {
   "codemirror_mode": {
    "name": "ipython",
    "version": 3
   },
   "file_extension": ".py",
   "mimetype": "text/x-python",
   "name": "python",
   "nbconvert_exporter": "python",
   "pygments_lexer": "ipython3",
   "version": "3.9.13"
  }
 },
 "nbformat": 4,
 "nbformat_minor": 2
}
