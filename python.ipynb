{
 "cells": [
  {
   "cell_type": "code",
   "execution_count": 2,
   "metadata": {},
   "outputs": [
    {
     "data": {
      "text/plain": [
       "[['January', 100],\n",
       " ['February', 102],\n",
       " ['March', 105],\n",
       " ['April', 104],\n",
       " ['May', 109]]"
      ]
     },
     "execution_count": 2,
     "metadata": {},
     "output_type": "execute_result"
    }
   ],
   "source": [
    "tesla_shares = [[\"January\", 100],  [\"March\", 105], [\"April\", 104], [\"May\", 109], [\"February\", 102]]\n",
    "tesla_shares"
   ]
  },
  {
   "cell_type": "code",
   "execution_count": 6,
   "metadata": {},
   "outputs": [
    {
     "name": "stdout",
     "output_type": "stream",
     "text": [
      "100\n"
     ]
    }
   ],
   "source": [
    "def get_price():\n",
    "    for month in tesla_shares:\n",
    "        if month[0] == \"January\":\n",
    "            print(month[1])\n",
    "            break\n",
    "get_price()\n",
    "# O(n)"
   ]
  },
  {
   "cell_type": "code",
   "execution_count": 7,
   "metadata": {},
   "outputs": [
    {
     "name": "stdout",
     "output_type": "stream",
     "text": [
      "100\n"
     ]
    }
   ],
   "source": [
    "tesla_hash = {\n",
    "    \"January\": 100,\n",
    "    \"March\": 105,\n",
    "    \"April\": 104,\n",
    "    \"May\": 109, \n",
    "    \"February\": 102\n",
    "}\n",
    "\n",
    "def get_price_2():\n",
    "    price = tesla_hash[\"January\"]\n",
    "    print(price)\n",
    "get_price_2()\n",
    "# O(1)"
   ]
  },
  {
   "cell_type": "code",
   "execution_count": null,
   "metadata": {},
   "outputs": [],
   "source": [
    "array = [5,6,2,4,7,6]\n",
    "# Write a function tha checks for duplicates in the give array.\n",
    "# with:\n",
    "# O(n^2) \n",
    "# O(n)"
   ]
  }
 ],
 "metadata": {
  "kernelspec": {
   "display_name": "base",
   "language": "python",
   "name": "python3"
  },
  "language_info": {
   "codemirror_mode": {
    "name": "ipython",
    "version": 3
   },
   "file_extension": ".py",
   "mimetype": "text/x-python",
   "name": "python",
   "nbconvert_exporter": "python",
   "pygments_lexer": "ipython3",
   "version": "3.9.13"
  },
  "orig_nbformat": 4
 },
 "nbformat": 4,
 "nbformat_minor": 2
}
