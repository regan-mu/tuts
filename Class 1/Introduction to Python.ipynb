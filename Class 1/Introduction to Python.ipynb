{
 "cells": [
  {
   "cell_type": "markdown",
   "metadata": {},
   "source": [
    "# Introduction to Python"
   ]
  },
  {
   "cell_type": "markdown",
   "metadata": {},
   "source": [
    "## General overview of Python programming¶\n",
    "- Python is a general-purpose interpreted, interactive, object-oriented, and high-level programming language.\n",
    "- Created by Guido van Rossum in 1991\n",
    "- Python is designed to be highly readable. \n",
    "- It uses English keywords frequently where as other languages use punctuation\n",
    "\n",
    "### Applications for Python\n",
    "\n",
    "- Web Development(Django &Flask)\n",
    "- Machine Learning and Artificial Intelligence(Sklearn, )\n",
    "- Data Science and Data Visualization(Pandas, Plotly, Dash)\n",
    "- Web Scraping Applications (Beautifulsoap,Scrapy, Selinium )\n",
    "- Embedded Applications (Arduino,Raspberry Pi)\n",
    "- Desktop GUI(Tkinter,kivy)\n",
    "- Game Development(Blender,Unity3d,UDK)\n",
    "- Mobile application (Kivy)\n",
    "\n",
    "### Getting Python\n",
    "\n",
    "- The most up-to-date and current source code, binaries, documentation, news, etc., is available on the official website of Python. https://www.python.org/downloads/\n",
    "- You can download Python documentation from https://www.python.org/doc/. The documentation is available in HTML, PDF, and PostScript formats.\n",
    "\n",
    "\n",
    "### Python IDEs and Code Editors¶\n",
    "- Pycharm : https://www.jetbrains.com/pycharm/\n",
    "- VS Code : https://code.visualstudio.com/\n",
    "- Anaconda : https://www.anaconda.com/products/individual"
   ]
  },
  {
   "cell_type": "code",
   "execution_count": null,
   "metadata": {},
   "outputs": [],
   "source": []
  },
  {
   "cell_type": "markdown",
   "metadata": {},
   "source": [
    "### Variables\n",
    "- Variables are reserved memory locations to store values.\n",
    "- Are symbolic names that are references or pointers to objects stored in memory.\n",
    "\n",
    "###### Variable naming\n",
    "- A variable name can have a numbers letters and underscore. But cannot start with a number, only letters or underscore.</li>\n",
    "- Spaces are not allowed in variable names but undescores can be used to separate words </li>\n",
    "- Avoid using python keywords and function names as variable names. eg print </li>\n",
    "- Variable names should be short and descriptive.</li>"
   ]
  },
  {
   "cell_type": "code",
   "execution_count": 4,
   "metadata": {},
   "outputs": [
    {
     "name": "stdout",
     "output_type": "stream",
     "text": [
      "Pablo Picaso\n"
     ]
    }
   ],
   "source": [
    "full_name = \"Pablo Picaso\"\n",
    "# print the fullname\n",
    "print(full_name)"
   ]
  },
  {
   "cell_type": "markdown",
   "metadata": {},
   "source": [
    "### Python Comments\n",
    "<li>You use the hash symbol for single line comments and single or double quotes for multi-line comments</li>"
   ]
  },
  {
   "cell_type": "code",
   "execution_count": 3,
   "metadata": {},
   "outputs": [],
   "source": [
    "# This is a single line comments"
   ]
  },
  {
   "cell_type": "markdown",
   "metadata": {},
   "source": [
    "## Python Primitive Data Types\n",
    "There are 4 main primitive data types in Python: \n",
    "* Strings\n",
    "* Integers\n",
    "* Floats\n",
    "* Booleans"
   ]
  },
  {
   "cell_type": "code",
   "execution_count": null,
   "metadata": {},
   "outputs": [],
   "source": []
  },
  {
   "cell_type": "markdown",
   "metadata": {},
   "source": [
    "### 1. Strings\n",
    "* A string is simply a sequence of characters.\n",
    "* Strings in python are surrounded by either single quotation marks, or double quotation marks."
   ]
  },
  {
   "cell_type": "code",
   "execution_count": 5,
   "metadata": {},
   "outputs": [
    {
     "name": "stdout",
     "output_type": "stream",
     "text": [
      "Hello world\n",
      "Hello world\n"
     ]
    }
   ],
   "source": [
    "# Defining strings in Python\n",
    "# All of the following are equivalent\n",
    "my_string = 'Hello world'\n",
    "print(my_string)\n",
    "\n",
    "my_string = \"Hello world\"\n",
    "print(my_string)"
   ]
  },
  {
   "cell_type": "code",
   "execution_count": null,
   "metadata": {},
   "outputs": [],
   "source": []
  },
  {
   "cell_type": "markdown",
   "metadata": {},
   "source": [
    "#### Accessing characters in a string\n",
    "* We can access individual characters using **indexing**.\n",
    "* Indexing in Python starts from zero, so the first character in the string has an index of zero(0).\n",
    "* Trying to access a character out of index range will raise an **IndexError**. \n",
    "* The index must be an integer. We can't use floats or other types, this will result into **TypeError**\n",
    "* Python allows negative indexing for its sequences.\n",
    "* The index of -1 refers to the last character, -2 to the second last character and so on.\n",
    "\n",
    "We can also use **slicing** to access a section of the string\n",
    "* For slicing we use the slicing operator **(:)/colon**"
   ]
  },
  {
   "cell_type": "code",
   "execution_count": 19,
   "metadata": {},
   "outputs": [
    {
     "name": "stdout",
     "output_type": "stream",
     "text": [
      "text =  programmer\n",
      "text[0] =  p\n",
      "text[-1] =  r\n",
      "text[1:5] =  rogr\n",
      "text[5:-2] =  amm\n"
     ]
    }
   ],
   "source": [
    "#Accessing string characters in Python\n",
    "text = 'programmer'\n",
    "print('text = ', text)\n",
    "\n",
    "#first character\n",
    "print('text[0] = ', text[0])\n",
    "\n",
    "#last character\n",
    "print('text[-1] = ', text[-1])\n",
    "\n",
    "#slicing 2nd to 5th character\n",
    "print('text[1:5] = ', text[1:5])\n",
    "\n",
    "#slicing 6th to 2nd last character\n",
    "print('text[5:-2] = ', text[5:-2])\n"
   ]
  },
  {
   "cell_type": "markdown",
   "metadata": {},
   "source": [
    "##### String Methods\n",
    "There are string manipulations methods that each does a different operations on the string its called on."
   ]
  },
  {
   "cell_type": "code",
   "execution_count": 13,
   "metadata": {},
   "outputs": [
    {
     "name": "stdout",
     "output_type": "stream",
     "text": [
      "Hello world\n",
      "Hello World\n",
      "HELLO WORLD\n",
      "hello world\n"
     ]
    }
   ],
   "source": [
    "string = \"hello WOrLD\"\n",
    "\n",
    "# Capitalize Method\n",
    "# Makes first letter uppercase\n",
    "cap = string.capitalize()\n",
    "print(cap)\n",
    "\n",
    "# Title Method\n",
    "# Converts the first letter in every word in a string to uppercase.\n",
    "title_ = string.title()\n",
    "print(title_)\n",
    "\n",
    "# Upper Method\n",
    "# Make all uppercase\n",
    "upper_ = string.upper()\n",
    "print(upper_)\n",
    "\n",
    "# Lower Method\n",
    "# Make all lower\n",
    "lower_ = string.lower()\n",
    "print(lower_)\n"
   ]
  },
  {
   "cell_type": "code",
   "execution_count": 12,
   "metadata": {},
   "outputs": [
    {
     "data": {
      "text/plain": [
       "'Mohammed'"
      ]
     },
     "execution_count": 12,
     "metadata": {},
     "output_type": "execute_result"
    }
   ],
   "source": [
    "name = \"moHAmmEd\"\n",
    "name.capitalize()"
   ]
  },
  {
   "cell_type": "markdown",
   "metadata": {},
   "source": [
    "##### String Concatenation\n",
    "Joining of two or more strings into a single one is called **concatenation**.\n",
    "String concatenation can be done using:\n",
    "* **+** sign."
   ]
  },
  {
   "cell_type": "code",
   "execution_count": 15,
   "metadata": {},
   "outputs": [
    {
     "name": "stdout",
     "output_type": "stream",
     "text": [
      "Hello World!\n"
     ]
    }
   ],
   "source": [
    "# Python String Operations\n",
    "str1 = 'Hello'\n",
    "str2 = 'World!'\n",
    "\n",
    "# using +\n",
    "print(str1 + \" \" +   str2)\n"
   ]
  },
  {
   "cell_type": "code",
   "execution_count": 17,
   "metadata": {},
   "outputs": [
    {
     "name": "stdout",
     "output_type": "stream",
     "text": [
      "Hello World!\n"
     ]
    }
   ],
   "source": []
  },
  {
   "cell_type": "code",
   "execution_count": 1,
   "metadata": {},
   "outputs": [
    {
     "name": "stdout",
     "output_type": "stream",
     "text": [
      "Hello, my name is Elon Musk and I am 50\n"
     ]
    }
   ],
   "source": [
    "#string \n",
    "name = 'Elon Musk'\n",
    "#int \n",
    "age = 50\n",
    "\n",
    "# Concatenate - You can only concatenate strings with other othe strings not integers or floats.\n",
    "# To convert an integer int a string we wrap it inside a str() method.\n",
    "print('Hello, my name is ' + name + ' and I am ' + str(age))"
   ]
  },
  {
   "cell_type": "code",
   "execution_count": 21,
   "metadata": {},
   "outputs": [
    {
     "name": "stdout",
     "output_type": "stream",
     "text": [
      "Hello, my name is Elon Musk and I am 50\n"
     ]
    }
   ],
   "source": [
    "sentence = \"Hello, my name is \" + name + \" and I am \" + str(age)\n",
    "print(sentence)"
   ]
  },
  {
   "cell_type": "markdown",
   "metadata": {},
   "source": [
    "### String Formatting\n",
    "**Using F-Strings**\n",
    "\n",
    "- F-strings provide a concise and convenient way to embed python expressions inside string literals for formatting.\n",
    "- Available in python 3.6+\n",
    "- F-strings use curly braces to store the values which should be formatted into a string"
   ]
  },
  {
   "cell_type": "code",
   "execution_count": 31,
   "metadata": {},
   "outputs": [
    {
     "name": "stdout",
     "output_type": "stream",
     "text": [
      "Hello, my name is Elon Musk and I am 50 years old.\n"
     ]
    }
   ],
   "source": [
    "print(f\"Hello, my name is {name} and I am {age} years old.\")"
   ]
  },
  {
   "cell_type": "code",
   "execution_count": null,
   "metadata": {},
   "outputs": [],
   "source": [
    "\"Hello, my name is \" + name + \" and I am \" + str(age)"
   ]
  },
  {
   "cell_type": "code",
   "execution_count": 2,
   "metadata": {},
   "outputs": [
    {
     "name": "stdout",
     "output_type": "stream",
     "text": [
      "Hello, my name is Elon Musk and I am 50 years old\n"
     ]
    }
   ],
   "source": [
    "print(f\"Hello, my name is {name} and I am {age} years old\")"
   ]
  },
  {
   "cell_type": "code",
   "execution_count": 33,
   "metadata": {},
   "outputs": [
    {
     "name": "stdout",
     "output_type": "stream",
     "text": [
      "Hello, my name is Elon Musk. Next year I will be 51 years old.\n"
     ]
    }
   ],
   "source": [
    "# f strings can also support functions or any other expression, evaluated inside the string. \n",
    "print(f'Hello, my name is {name}. Next year I will be {age + 1} years old.')"
   ]
  },
  {
   "cell_type": "code",
   "execution_count": 35,
   "metadata": {},
   "outputs": [
    {
     "name": "stdout",
     "output_type": "stream",
     "text": [
      "Hello, my name is Elon Musk and I am 50 years old.\n"
     ]
    }
   ],
   "source": [
    "# If you are using python 3.5 or earlier, you can use format() method instead.\n",
    "print('Hello, my name is {} and I am {} years old.'.format(name, age))"
   ]
  },
  {
   "cell_type": "markdown",
   "metadata": {},
   "source": [
    "### 2. Integers\n",
    "- Integer are simply whole numbers. Or numbers without decimals.\n",
    "- In python integers are not surrounded by any quotation marks."
   ]
  },
  {
   "cell_type": "code",
   "execution_count": 3,
   "metadata": {},
   "outputs": [
    {
     "name": "stdout",
     "output_type": "stream",
     "text": [
      "<class 'int'>\n"
     ]
    }
   ],
   "source": [
    "number = 3\n",
    "print(type(number))"
   ]
  },
  {
   "cell_type": "markdown",
   "metadata": {},
   "source": [
    "To convert a number that is of string/float data type we use the **int()** method"
   ]
  },
  {
   "cell_type": "code",
   "execution_count": 39,
   "metadata": {},
   "outputs": [
    {
     "name": "stdout",
     "output_type": "stream",
     "text": [
      "<class 'str'>\n",
      "<class 'int'>\n",
      "<class 'float'>\n",
      "5\n",
      "<class 'int'>\n"
     ]
    }
   ],
   "source": [
    "number_1 = '10'\n",
    "print(type(number_1))\n",
    "\n",
    "number_2 = int(number_1)\n",
    "print(type(number_2))\n",
    "\n",
    "number_3 = 5.7\n",
    "print(type(number_3))\n",
    "\n",
    "number_4 = int(number_3)\n",
    "print(number_4)\n",
    "print(type(number_4))"
   ]
  },
  {
   "cell_type": "markdown",
   "metadata": {},
   "source": [
    "### 3. Floats\n",
    "Floats are just numbers with decimal points."
   ]
  },
  {
   "cell_type": "code",
   "execution_count": 40,
   "metadata": {},
   "outputs": [
    {
     "name": "stdout",
     "output_type": "stream",
     "text": [
      "<class 'float'>\n"
     ]
    }
   ],
   "source": [
    "number_5 = 5.5\n",
    "print(type(number_5))"
   ]
  },
  {
   "cell_type": "markdown",
   "metadata": {},
   "source": [
    "To cast an integer or a string to a float we use the **float()** function."
   ]
  },
  {
   "cell_type": "code",
   "execution_count": 4,
   "metadata": {},
   "outputs": [
    {
     "name": "stdout",
     "output_type": "stream",
     "text": [
      "18.0\n"
     ]
    }
   ],
   "source": [
    "number_6 = 18\n",
    "number_7 = float(number_6)\n",
    "print(number_7)"
   ]
  },
  {
   "cell_type": "code",
   "execution_count": 22,
   "metadata": {},
   "outputs": [
    {
     "name": "stdout",
     "output_type": "stream",
     "text": [
      "<class 'int'>\n",
      "<class 'str'>\n"
     ]
    }
   ],
   "source": [
    "number_8 = 88\n",
    "print(type(number_8))\n",
    "number_8 = str(number_8)\n",
    "print(type(number_8))"
   ]
  },
  {
   "cell_type": "markdown",
   "metadata": {},
   "source": [
    "### 4. Booleans\n",
    "* Boolean data type has only two values  **True** and **False**. \n",
    "* It’s used to represent the truth value of an expression. \n",
    "* For example, the expression 1 <= 2 is **True**, while the expression 0 == 1 is **False**."
   ]
  },
  {
   "cell_type": "code",
   "execution_count": 5,
   "metadata": {},
   "outputs": [
    {
     "name": "stdout",
     "output_type": "stream",
     "text": [
      "True\n",
      "False\n"
     ]
    }
   ],
   "source": [
    "print(1 <= 2)\n",
    "print(1 >= 2)"
   ]
  },
  {
   "cell_type": "markdown",
   "metadata": {},
   "source": [
    "### Assignment:\n",
    "* Data Types"
   ]
  },
  {
   "cell_type": "markdown",
   "metadata": {},
   "source": [
    "#### Mathematical Operations\n",
    "Python supports mathematical operations such as:\n",
    "   * Addition\n",
    "   * Subtraction\n",
    "   * Division\n",
    "   * Multiplication\n",
    "   * Exponents"
   ]
  },
  {
   "cell_type": "code",
   "execution_count": null,
   "metadata": {},
   "outputs": [
    {
     "name": "stdout",
     "output_type": "stream",
     "text": [
      "Addition\n",
      "8\n",
      "Subtraction\n",
      "4\n",
      "Multiplication\n",
      "12\n",
      "Division\n",
      "3.0\n",
      "Exponents\n",
      "4\n",
      "Modulo\n",
      "2\n"
     ]
    }
   ],
   "source": [
    "num_1 = 6\n",
    "num_2 = 2\n",
    "#Add:\n",
    "#Addition uses the + sign\n",
    "print('Addition')\n",
    "print(num_1 + num_2)\n",
    "\n",
    "# Subtract:\n",
    "# Uses the - sign\n",
    "print('Subtraction')\n",
    "print(num_1 - num_2)\n",
    "\n",
    "# Multiplication\n",
    "# Uses the * sign\n",
    "print('Multiplication')\n",
    "print(num_1 * num_2)\n",
    "\n",
    "# Division\n",
    "# Uses the / sign. The result is always a boolean.\n",
    "print('Division')\n",
    "print(num_1 / num_2)\n",
    "\n",
    "# Exponents\n",
    "# Rising a number to a certain power uses the ** (double asteriks)\n",
    "print('Exponents')\n",
    "print(num_2 ** 2)\n",
    "\n",
    "# Modulo\n",
    "# Return the remainder after dividing two numbers.\n",
    "print('Modulo')\n",
    "print(10%4)"
   ]
  },
  {
   "cell_type": "code",
   "execution_count": 11,
   "metadata": {},
   "outputs": [
    {
     "data": {
      "text/plain": [
       "0"
      ]
     },
     "execution_count": 11,
     "metadata": {},
     "output_type": "execute_result"
    }
   ],
   "source": [
    "12 % 3"
   ]
  },
  {
   "cell_type": "markdown",
   "metadata": {},
   "source": [
    "### Python Input function\n",
    "* Software programs/applications are mostly built solve a user problem, therefore sometimes developers need to interact with users, either to get data or to provide some sort of result.\n",
    "* In python the **input()** function allows the user to interact with the program by accepting inputs.\n",
    "\n",
    "###### How the input function works.\n",
    "* When input() function executes, the program flow will be stopped until the user has given an input.\n",
    "* The text or message is display on the output screen to ask a user to enter input value. (This is optional but essential as it informs the user what is required of them.\n",
    "* Whatever you enter as input, input function convert it into a string. if you enter an integer value still input() function convert it into a string. You need to explicitly convert it into an integer in your code using **typecasting**.\n",
    "* Now the program control flow continues."
   ]
  },
  {
   "cell_type": "code",
   "execution_count": 12,
   "metadata": {},
   "outputs": [
    {
     "data": {
      "text/plain": [
       "'something'"
      ]
     },
     "execution_count": 12,
     "metadata": {},
     "output_type": "execute_result"
    }
   ],
   "source": [
    "# Input Function\n",
    "input('Enter some input ')"
   ]
  },
  {
   "cell_type": "markdown",
   "metadata": {},
   "source": [
    "* You can also store the user input in a variable to use it later in the program.\n",
    "* If you building a calculator for instance, you'll need to get hold of the user input using a variable."
   ]
  },
  {
   "cell_type": "code",
   "execution_count": 13,
   "metadata": {},
   "outputs": [
    {
     "name": "stdout",
     "output_type": "stream",
     "text": [
      "Albert\n"
     ]
    }
   ],
   "source": [
    "name = input('Please enter your name: ')\n",
    "print(name)"
   ]
  },
  {
   "cell_type": "markdown",
   "metadata": {},
   "source": [
    "The data type assigned to the input is a string."
   ]
  },
  {
   "cell_type": "code",
   "execution_count": 14,
   "metadata": {},
   "outputs": [
    {
     "name": "stdout",
     "output_type": "stream",
     "text": [
      "3.0\n"
     ]
    }
   ],
   "source": [
    "number_1 = float(input(\"Enter the first number: \"))\n",
    "number_2 = int(input(\"Enter the second number: \"))\n",
    "divide = number_1 / number_2\n",
    "print(divide)"
   ]
  },
  {
   "cell_type": "code",
   "execution_count": 17,
   "metadata": {},
   "outputs": [
    {
     "data": {
      "text/plain": [
       "1.8"
      ]
     },
     "execution_count": 17,
     "metadata": {},
     "output_type": "execute_result"
    }
   ],
   "source": [
    "num = \"1.8\"\n",
    "float(num)"
   ]
  },
  {
   "cell_type": "markdown",
   "metadata": {},
   "source": [
    "### Activity:\n",
    "* Build a simple BMI calculator.\n",
    "* Formula: BMI = **weight(in kgs) / height(in metres) squared**\n",
    "\n",
    "#### Process\n",
    "1. Get user weight in Kilograms.\n",
    "2. Get user height in Metres.\n",
    "3. Calculate BMI.\n",
    "4. print the bmi value."
   ]
  }
 ],
 "metadata": {
  "kernelspec": {
   "display_name": "Python 3",
   "language": "python",
   "name": "python3"
  },
  "language_info": {
   "codemirror_mode": {
    "name": "ipython",
    "version": 3
   },
   "file_extension": ".py",
   "mimetype": "text/x-python",
   "name": "python",
   "nbconvert_exporter": "python",
   "pygments_lexer": "ipython3",
   "version": "3.9.13"
  }
 },
 "nbformat": 4,
 "nbformat_minor": 4
}
