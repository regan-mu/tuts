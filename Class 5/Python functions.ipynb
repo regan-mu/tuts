{
 "cells": [
  {
   "cell_type": "markdown",
   "metadata": {},
   "source": [
    "# Python Functions"
   ]
  },
  {
   "cell_type": "markdown",
   "metadata": {},
   "source": [
    "### NOTE:\n",
    "- It's important to become familiar with the documentation because it's not possible to remember the syntax for every variation of every data science library. However, if you remember what is possible and can read the documentation, you'll always be able to refamiliarize yourself with it when you need to."
   ]
  },
  {
   "cell_type": "markdown",
   "metadata": {},
   "source": []
  },
  {
   "cell_type": "markdown",
   "metadata": {},
   "source": [
    "- Python functions are named blocks of code that are designed to do one specific job.\n",
    "-  The idea is to put some commonly or repeatedly done tasks together and make a function so that instead of writing the same code again and again for different inputs, we can do the function calls to reuse code contained in it over and over again. \n",
    "- If you need to perform that task multiple times throughout your program, you don’t need to type all the code for the same task again and again; you just call the function dedicated to handling that task, and the call tells Python to run the code inside the function. \n",
    "- Using functions makes your programs easier to write, read, test, and fix."
   ]
  },
  {
   "cell_type": "markdown",
   "metadata": {},
   "source": [
    "### Defining a function\n",
    "``\n",
    "def function_name():\n",
    "    \"\"\"Docstring text\"\"\"\n",
    "    function logic\n",
    "function_name()\n",
    "``"
   ]
  },
  {
   "cell_type": "markdown",
   "metadata": {},
   "source": [
    "The example above defines the simplest form of a python function.\n",
    "1. The first line uses the keyword **def** to inform Python that you’re defining a function.\n",
    "    - This is the function definition, which tells Python the name of the function and, if applicable, what kind of information the function needs to do its job. The parentheses hold that information.\n",
    "    - In our example our function does not need any information to do its job.\n",
    "    - Any indented lines that follow def greet_user(): make up the body of the function.\n",
    "2. The text in the second line is a comment called a **docstring**, which describes what the function does. Docstrings are enclosed in triple quotes, which Python looks for when it generates documentation for the functions in your programs.\n",
    "3. Any code the comes after line 2 is the body of the function. (Provided it's still indented)\n",
    "4. In line four (exited the function body) is the **function call**. The call runs the code in the function body."
   ]
  },
  {
   "cell_type": "code",
   "execution_count": 1,
   "metadata": {},
   "outputs": [],
   "source": [
    "def greet_user():\n",
    "    '''This function Greets the user'''\n",
    "    print('Hello World')"
   ]
  },
  {
   "cell_type": "code",
   "execution_count": 2,
   "metadata": {},
   "outputs": [
    {
     "name": "stdout",
     "output_type": "stream",
     "text": [
      "Hello World\n"
     ]
    }
   ],
   "source": [
    "greet_user()"
   ]
  },
  {
   "cell_type": "code",
   "execution_count": null,
   "metadata": {},
   "outputs": [],
   "source": []
  },
  {
   "cell_type": "markdown",
   "metadata": {},
   "source": [
    "### Passing Information to a Function\n",
    "- Sometime a function needs some information to do its job.\n",
    "- This information is declared in the function definition and also passed to the function during the function call.\n",
    "\n",
    "``def function_name(parameter):\n",
    "    \"Docstring text\"\n",
    "    function body\n",
    "``\n",
    "- Let's modify our **greet_user()** function to accept the username."
   ]
  },
  {
   "cell_type": "code",
   "execution_count": 4,
   "metadata": {},
   "outputs": [
    {
     "name": "stdout",
     "output_type": "stream",
     "text": [
      "Hello, Bill.\n"
     ]
    }
   ],
   "source": [
    "def greet_user(name):\n",
    "    \"\"\"This function greets the user by name\"\"\"\n",
    "    print(f'Hello, {name}.')\n",
    "\n",
    "greet_user('Bill')"
   ]
  },
  {
   "cell_type": "markdown",
   "metadata": {},
   "source": [
    "- The variable **username** in the definition of greet_user() is an example of a **parameter**, a piece of information the function needs to do its job. \n",
    "- The value **'grandpa'** in greet_user('grandpa') is an example of an **argument**. \n",
    "- An **argument** is a piece of information that is passed from a function call to a function.\n",
    "- When we call the function, we place the value we want the function to work with in parentheses.\n",
    "- **NOTE:** *People sometimes speak of arguments and parameters interchangeably.*"
   ]
  },
  {
   "cell_type": "markdown",
   "metadata": {},
   "source": [
    "## Exercise: Task 1\n",
    "\n",
    "### Solution"
   ]
  },
  {
   "cell_type": "code",
   "execution_count": null,
   "metadata": {},
   "outputs": [],
   "source": [
    "users = ['Mary', 'Myles', 'Martin', 'Martha']\n",
    "##-------------DON'T CHANGE THE CODE ABOVE -------------------##\n",
    "\n",
    "# WRITE YOUR CODE BELOW\n",
    "\n",
    "def greet_user(usernames):\n",
    "    \"\"\"Greets user\"\"\"\n",
    "    for username in usernames:\n",
    "        print(f\"Hello, {username}\")\n",
    "\n",
    "\n",
    "greet_user(users)"
   ]
  },
  {
   "cell_type": "markdown",
   "metadata": {},
   "source": [
    "### Passing Arguments to Function\n",
    "- A function can have multiple parameters, hence a function call can also have mutiple arguments.\n",
    "- You can pass arguments to your functions in a number of ways.\n",
    "- You can use:\n",
    "    - Positional Arguments.\n",
    "    - Keyword Arguments.\n",
    "    - Default Arguments.\n",
    "    - Arbitrary Arguments"
   ]
  },
  {
   "cell_type": "markdown",
   "metadata": {},
   "source": [
    "##### Positional Arguments\n",
    "- Arguments are passed in the same order the parameters were written.\n",
    "- Order matters in Positional Arguments."
   ]
  },
  {
   "cell_type": "code",
   "execution_count": 6,
   "metadata": {},
   "outputs": [
    {
     "name": "stdout",
     "output_type": "stream",
     "text": [
      "\n",
      "I have a Harry.\n",
      "My Harry's name is Dog.\n"
     ]
    }
   ],
   "source": [
    "def describe_pet(animal_type, pet_name):\n",
    "    \"\"\"Display information about a pet.\"\"\"\n",
    "    print(\"\\nI have a \" + animal_type + \".\")\n",
    "    print(\"My \" + animal_type + \"'s name is \" + pet_name.title() + \".\")\n",
    "describe_pet('dog','Harry')"
   ]
  },
  {
   "cell_type": "markdown",
   "metadata": {},
   "source": [
    "##### Keyword Arguments\n",
    "- A keyword argument is a name-value pair that you pass to a function. \n",
    "- You directly associate the name and the value within the argument, so when you pass the argument to the function, there’s no confusion (you won’t end up with a harry named Dog). \n",
    "- Keyword arguments free you from having to worry about correctly ordering your arguments in the function call, and they clarify the role of each value in the function call."
   ]
  },
  {
   "cell_type": "code",
   "execution_count": 11,
   "metadata": {},
   "outputs": [
    {
     "name": "stdout",
     "output_type": "stream",
     "text": [
      "\n",
      "I have a rabbit.\n",
      "My rabbit's name is Simba.\n"
     ]
    }
   ],
   "source": [
    "def describe_pet(animal_type, pet_name):\n",
    "    \"\"\"Display information about a pet.\"\"\"\n",
    "    print(\"\\nI have a \" + animal_type + \".\")\n",
    "    print(\"My \" + animal_type + \"'s name is \" + pet_name.title() + \".\")\n",
    "describe_pet(pet_name='Simba', animal_type='rabbit')"
   ]
  },
  {
   "cell_type": "markdown",
   "metadata": {},
   "source": [
    "##### Default Arguments\n",
    "- When writing a function, you can define a default value for each parameter.\n",
    "- If an argument for a parameter is provided in the function call, Python uses the argument value. \n",
    "- If not, it uses the parameter’s default value."
   ]
  },
  {
   "cell_type": "code",
   "execution_count": 12,
   "metadata": {},
   "outputs": [
    {
     "name": "stdout",
     "output_type": "stream",
     "text": [
      "\n",
      "I have a dog.\n",
      "My dog's name is Sky.\n"
     ]
    }
   ],
   "source": [
    "def describe_pet(pet_name, animal_type=\"dog\"):\n",
    "    \"\"\"Display information about a pet.\"\"\"\n",
    "    print(\"\\nI have a \" + animal_type + \".\")\n",
    "    print(\"My \" + animal_type + \"'s name is \" + pet_name.title() + \".\")\n",
    "describe_pet(pet_name='Sky')"
   ]
  },
  {
   "cell_type": "code",
   "execution_count": 16,
   "metadata": {},
   "outputs": [
    {
     "name": "stdout",
     "output_type": "stream",
     "text": [
      "\n",
      "I have a cat.\n",
      "My cat's name is Mike.\n"
     ]
    }
   ],
   "source": [
    "describe_pet(pet_name='Mike', animal_type='cat')"
   ]
  },
  {
   "cell_type": "markdown",
   "metadata": {},
   "source": [
    "###### **Note:** positional arguments, keyword arguments, and default values can all be used together, but the positional arguments should come first."
   ]
  },
  {
   "cell_type": "markdown",
   "metadata": {},
   "source": [
    "##### Arbitrary Arguments\n",
    "- These are used when you don't know the number of arguments that might be entered in a function before hand.\n",
    "- So to anticipate any number of arguments, arbitrary operator is used.\n",
    "- These arbitrary arguments can either be ***positional*** or ***keywords***"
   ]
  },
  {
   "cell_type": "code",
   "execution_count": 20,
   "metadata": {},
   "outputs": [
    {
     "name": "stdout",
     "output_type": "stream",
     "text": [
      "Mia\n",
      "27\n",
      "engineer\n",
      "Kenya\n",
      "female\n"
     ]
    }
   ],
   "source": [
    "def user(*args):\n",
    "    for user_info in args:\n",
    "        print(user_info)\n",
    "\n",
    "user('Mia', 27, 'engineer', 'Kenya', 'female')"
   ]
  },
  {
   "cell_type": "code",
   "execution_count": 25,
   "metadata": {},
   "outputs": [
    {
     "name": "stdout",
     "output_type": "stream",
     "text": [
      "{'name': 'Breona', 'age': '24', 'occupation': 'Nurse', 'country': 'Nigeria'}\n"
     ]
    }
   ],
   "source": [
    "def user(**kwargs):\n",
    "    print(kwargs)\n",
    "user(name='Breona', age='24', occupation='Nurse', country='Nigeria')"
   ]
  },
  {
   "cell_type": "markdown",
   "metadata": {},
   "source": [
    "## Exercise: Task 2\n",
    "### Solution"
   ]
  },
  {
   "cell_type": "code",
   "execution_count": 21,
   "metadata": {},
   "outputs": [
    {
     "name": "stdout",
     "output_type": "stream",
     "text": [
      "Fizz-Buzz\n",
      "Fizz\n",
      "Fizz-Buzz\n",
      "Buzz\n"
     ]
    }
   ],
   "source": [
    "def fizz_buzz(numbers):\n",
    "    for num in numbers:\n",
    "        if num % 3 == 0 and num % 5 == 0:\n",
    "            print(\"Fizz-Buzz\")\n",
    "        elif num % 3 == 0:\n",
    "            print(\"Fizz\")\n",
    "        elif num % 5 == 0:\n",
    "            print(\"Buzz\")\n",
    "\n",
    "fizz_buzz([15, 27, 30, 40])"
   ]
  },
  {
   "cell_type": "code",
   "execution_count": null,
   "metadata": {},
   "outputs": [],
   "source": []
  },
  {
   "cell_type": "markdown",
   "metadata": {},
   "source": [
    "### Functions with Outputs\n",
    "- A function doesn’t always have to display its output directly. \n",
    "- Instead, it can process some data and then return a value or set of values. \n",
    "- The value the function returns is called a **return value**. \n",
    "- The return statement takes a value from inside a function and sends it back to the line that called the function."
   ]
  },
  {
   "cell_type": "code",
   "execution_count": 22,
   "metadata": {},
   "outputs": [
    {
     "name": "stdout",
     "output_type": "stream",
     "text": [
      "Nikola Tesla\n"
     ]
    }
   ],
   "source": [
    "def get_formatted_name(first_name, last_name):\n",
    "    \"\"\"Return a full name, neatly formatted.\"\"\"\n",
    "    full_name = first_name + ' ' + last_name\n",
    "    return full_name.title()\n",
    "inventor = get_formatted_name('Nikola', 'Tesla')\n",
    "\n",
    "print(inventor)"
   ]
  },
  {
   "cell_type": "code",
   "execution_count": 23,
   "metadata": {},
   "outputs": [
    {
     "data": {
      "text/plain": [
       "80"
      ]
     },
     "execution_count": 23,
     "metadata": {},
     "output_type": "execute_result"
    }
   ],
   "source": [
    "def squared(n):\n",
    "    return n ** 2\n",
    "result = squared(4)\n",
    "result * 5"
   ]
  },
  {
   "cell_type": "markdown",
   "metadata": {},
   "source": [
    "## Project\n",
    "- Cab fare calculator function.\n",
    "- The finction should take in two arguments **(Distance covered & time taken)** , compute and return the total fare for the trip.\n",
    "![receipt](./cab-receipt.png)"
   ]
  },
  {
   "cell_type": "code",
   "execution_count": 1,
   "metadata": {},
   "outputs": [
    {
     "data": {
      "text/plain": [
       "838"
      ]
     },
     "execution_count": 1,
     "metadata": {},
     "output_type": "execute_result"
    }
   ],
   "source": [
    "def fare_calculator(distance, time):\n",
    "    \"\"\"This function calculates the fare give distance in kms and time in mins\"\"\"\n",
    "    base_fare = 100\n",
    "    cost_for_distance = distance * 27\n",
    "    cost_for_time_taken = time * 4\n",
    "    total_fare = base_fare + cost_for_distance + cost_for_time_taken\n",
    "    return total_fare\n",
    "fare_calculator(18, 63)"
   ]
  },
  {
   "cell_type": "markdown",
   "metadata": {},
   "source": [
    "# END"
   ]
  }
 ],
 "metadata": {
  "kernelspec": {
   "display_name": "Python 3",
   "language": "python",
   "name": "python3"
  },
  "language_info": {
   "codemirror_mode": {
    "name": "ipython",
    "version": 3
   },
   "file_extension": ".py",
   "mimetype": "text/x-python",
   "name": "python",
   "nbconvert_exporter": "python",
   "pygments_lexer": "ipython3",
   "version": "3.8.8"
  }
 },
 "nbformat": 4,
 "nbformat_minor": 4
}
